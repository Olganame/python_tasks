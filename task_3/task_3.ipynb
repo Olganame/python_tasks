{
 "cells": [
  {
   "cell_type": "code",
   "execution_count": 31,
   "metadata": {},
   "outputs": [],
   "source": [
    "def find_repetitions(input_str):\n",
    "    result_str  = ''\n",
    "    for line in open(input_str):\n",
    "        result_str += line.strip()\n",
    "        result_str += ' '\n",
    "    print(result_str)\n",
    "    mas = result_str.split(' ')\n",
    "    del(mas[len(mas)-1])\n",
    "    mas_repetitions = {}\n",
    "    mas_index = []\n",
    "    while len(mas) > len(mas_index):\n",
    "        if len(mas_index) > 0:\n",
    "            s = mas[min([i for i,j in enumerate(mas) if i not in mas_index])]\n",
    "        else: \n",
    "            s = mas[0]\n",
    "        i = 0 \n",
    "        for idx,item in enumerate(mas): \n",
    "            if idx not in mas_index:\n",
    "                if s.lower() == item.lower():\n",
    "                    i += 1\n",
    "                    mas_repetitions[s] = i\n",
    "                    mas_index.append(idx)\n",
    "    count = max(mas_repetitions.keys(), key=(lambda k: mas_repetitions[k]))\n",
    "    return ('{0} {1}'.format(count, mas_repetitions[count]))"
   ]
  },
  {
   "cell_type": "code",
   "execution_count": 32,
   "metadata": {},
   "outputs": [
    {
     "name": "stdout",
     "output_type": "stream",
     "text": [
      "abc a bCd bC AbC BC BCD bcd ABC \n",
      "abc 3\n"
     ]
    }
   ],
   "source": [
    "print(find_repetitions('file.txt'))"
   ]
  },
  {
   "cell_type": "code",
   "execution_count": null,
   "metadata": {},
   "outputs": [],
   "source": []
  },
  {
   "cell_type": "code",
   "execution_count": null,
   "metadata": {},
   "outputs": [],
   "source": []
  },
  {
   "cell_type": "code",
   "execution_count": null,
   "metadata": {},
   "outputs": [],
   "source": []
  }
 ],
 "metadata": {
  "kernelspec": {
   "display_name": "Python 3",
   "language": "python",
   "name": "python3"
  },
  "language_info": {
   "codemirror_mode": {
    "name": "ipython",
    "version": 3
   },
   "file_extension": ".py",
   "mimetype": "text/x-python",
   "name": "python",
   "nbconvert_exporter": "python",
   "pygments_lexer": "ipython3",
   "version": "3.7.0"
  }
 },
 "nbformat": 4,
 "nbformat_minor": 2
}
