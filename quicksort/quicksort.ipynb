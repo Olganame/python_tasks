{
 "cells": [
  {
   "cell_type": "code",
   "execution_count": 14,
   "metadata": {},
   "outputs": [],
   "source": [
    "import random\n",
    "def quicksort(nums):\n",
    "   if len(nums) <= 1:\n",
    "       return nums\n",
    "   else:\n",
    "        q = random.choice(nums)\n",
    "        l_nums = [n for n in nums if n < q] \n",
    "        e_nums = [q] * nums.count(q)\n",
    "        b_nums = [n for n in nums if n > q]\n",
    "        return quicksort(l_nums) + e_nums + quicksort(b_nums)"
   ]
  },
  {
   "cell_type": "code",
   "execution_count": 15,
   "metadata": {},
   "outputs": [
    {
     "name": "stdout",
     "output_type": "stream",
     "text": [
      "[-1, 1, 3, 10]\n"
     ]
    }
   ],
   "source": [
    "print(quicksort([1, 10 , 3, -1]))"
   ]
  },
  {
   "cell_type": "code",
   "execution_count": null,
   "metadata": {},
   "outputs": [],
   "source": []
  }
 ],
 "metadata": {
  "kernelspec": {
   "display_name": "Python 3",
   "language": "python",
   "name": "python3"
  },
  "language_info": {
   "codemirror_mode": {
    "name": "ipython",
    "version": 3
   },
   "file_extension": ".py",
   "mimetype": "text/x-python",
   "name": "python",
   "nbconvert_exporter": "python",
   "pygments_lexer": "ipython3",
   "version": "3.7.0"
  }
 },
 "nbformat": 4,
 "nbformat_minor": 2
}
